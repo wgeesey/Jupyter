{
 "cells": [
  {
   "cell_type": "code",
   "execution_count": 1,
   "id": "7a3f7dd8",
   "metadata": {},
   "outputs": [
    {
     "data": {
      "application/vnd.jupyter.widget-view+json": {
       "model_id": "ba1d775547ae488cb5a3e30630f9e0cf",
       "version_major": 2,
       "version_minor": 0
      },
      "text/plain": [
       "interactive(children=(FloatSlider(value=1.0, description='w', max=3.0, min=-1.0), Button(description='Run Inte…"
      ]
     },
     "metadata": {},
     "output_type": "display_data"
    },
    {
     "data": {
      "text/plain": [
       "<function __main__.sine_wave(w=1.0)>"
      ]
     },
     "execution_count": 1,
     "metadata": {},
     "output_type": "execute_result"
    }
   ],
   "source": [
    "import numpy as np\n",
    "import matplotlib.pyplot as plt\n",
    "from ipywidgets import interact, interact_manual\n",
    "\n",
    "x = np.linspace(0, 6)\n",
    "\n",
    "def sine_wave(w=1.0):\n",
    "    plt.plot(x, np.sin(w * x))\n",
    "    plt.show()\n",
    "    \n",
    "interact_manual(sine_wave)"
   ]
  },
  {
   "cell_type": "code",
   "execution_count": 2,
   "id": "fc076854",
   "metadata": {},
   "outputs": [
    {
     "data": {
      "application/vnd.jupyter.widget-view+json": {
       "model_id": "6410313ccc7e4e43913a318ba9708319",
       "version_major": 2,
       "version_minor": 0
      },
      "text/plain": [
       "interactive(children=(IntSlider(value=1, description='w', max=3, min=-1), Output()), _dom_classes=('widget-int…"
      ]
     },
     "metadata": {},
     "output_type": "display_data"
    }
   ],
   "source": [
    "@interact(w=1)\n",
    "def sine_wave(w):\n",
    "    plt.plot(x, np.sin(w * x))\n",
    "    plt.show()"
   ]
  },
  {
   "cell_type": "code",
   "execution_count": 3,
   "id": "1481d2b8",
   "metadata": {},
   "outputs": [
    {
     "data": {
      "application/vnd.jupyter.widget-view+json": {
       "model_id": "3614407ffb034682a9ea302492fa7040",
       "version_major": 2,
       "version_minor": 0
      },
      "text/plain": [
       "interactive(children=(Dropdown(description='descriptor', options={'The King': 'Python', 'Not bad': 'Julia', 'U…"
      ]
     },
     "metadata": {},
     "output_type": "display_data"
    },
    {
     "data": {
      "text/plain": [
       "<function __main__.languages(descriptor)>"
      ]
     },
     "execution_count": 3,
     "metadata": {},
     "output_type": "execute_result"
    }
   ],
   "source": [
    "def languages(descriptor):\n",
    "    return descriptor\n",
    "\n",
    "options = {'The King': 'Python', 'Not bad': 'Julia', 'Up and coming': 'Go'}\n",
    "interact(languages, descriptor=options)"
   ]
  },
  {
   "cell_type": "code",
   "execution_count": 4,
   "id": "456d4bb4",
   "metadata": {},
   "outputs": [
    {
     "data": {
      "application/vnd.jupyter.widget-view+json": {
       "model_id": "1250be2550d846cb915a625f63199432",
       "version_major": 2,
       "version_minor": 0
      },
      "text/plain": [
       "interactive(children=(IntSlider(value=5, description='x', max=15, min=-5), Output()), _dom_classes=('widget-in…"
      ]
     },
     "metadata": {},
     "output_type": "display_data"
    }
   ],
   "source": [
    "from ipywidgets import interactive\n",
    "\n",
    "def my_function(x):\n",
    "    return x\n",
    "\n",
    "widget = interactive(my_function, x=5)\n",
    "display(widget)"
   ]
  },
  {
   "cell_type": "code",
   "execution_count": 5,
   "id": "1f80f53e",
   "metadata": {},
   "outputs": [
    {
     "name": "stdout",
     "output_type": "stream",
     "text": [
      "5\n"
     ]
    }
   ],
   "source": [
    "print(widget.result)"
   ]
  },
  {
   "cell_type": "code",
   "execution_count": 6,
   "id": "3f62eafe",
   "metadata": {},
   "outputs": [
    {
     "data": {
      "application/vnd.jupyter.widget-view+json": {
       "model_id": "aa26451ead1c4bc3be45959acbb1cad7",
       "version_major": 2,
       "version_minor": 0
      },
      "text/plain": [
       "IntSlider(value=0, description='Integer Slider', max=20, step=2)"
      ]
     },
     "metadata": {},
     "output_type": "display_data"
    },
    {
     "data": {
      "text/plain": [
       "['_dom_classes',\n",
       " '_model_module',\n",
       " '_model_module_version',\n",
       " '_model_name',\n",
       " '_view_count',\n",
       " '_view_module',\n",
       " '_view_module_version',\n",
       " '_view_name',\n",
       " 'behavior',\n",
       " 'continuous_update',\n",
       " 'description',\n",
       " 'description_allow_html',\n",
       " 'disabled',\n",
       " 'layout',\n",
       " 'max',\n",
       " 'min',\n",
       " 'orientation',\n",
       " 'readout',\n",
       " 'readout_format',\n",
       " 'step',\n",
       " 'style',\n",
       " 'tabbable',\n",
       " 'tooltip',\n",
       " 'value']"
      ]
     },
     "metadata": {},
     "output_type": "display_data"
    }
   ],
   "source": [
    "import ipywidgets as widgets\n",
    "\n",
    "slider = widgets.IntSlider(value=0,\n",
    "                          min=0,\n",
    "                          max=20,\n",
    "                          step=2,\n",
    "                          description='Integer Slider',\n",
    "                          orientation='horizontal')\n",
    "\n",
    "display(slider)\n",
    "display(slider.keys)"
   ]
  },
  {
   "cell_type": "code",
   "execution_count": 7,
   "id": "9ab7573c",
   "metadata": {},
   "outputs": [
    {
     "name": "stdout",
     "output_type": "stream",
     "text": [
      "Slider value: 0\n"
     ]
    }
   ],
   "source": [
    "print(f\"Slider value: {slider.value}\")"
   ]
  },
  {
   "cell_type": "code",
   "execution_count": 8,
   "id": "73df2fdc",
   "metadata": {},
   "outputs": [
    {
     "name": "stdout",
     "output_type": "stream",
     "text": [
      "Pick your favorite language:\n"
     ]
    },
    {
     "data": {
      "application/vnd.jupyter.widget-view+json": {
       "model_id": "83494a84a13d4ad1baa19b0781ca613c",
       "version_major": 2,
       "version_minor": 0
      },
      "text/plain": [
       "Button(button_style='success', description='Python', layout=Layout(border_bottom='dashed 2px', border_left='da…"
      ]
     },
     "metadata": {},
     "output_type": "display_data"
    },
    {
     "data": {
      "application/vnd.jupyter.widget-view+json": {
       "model_id": "112a3444359244e093dd6fd95fd48df5",
       "version_major": 2,
       "version_minor": 0
      },
      "text/plain": [
       "Button(button_style='info', description='Go', layout=Layout(border_bottom='dashed 2px', border_left='dashed 2p…"
      ]
     },
     "metadata": {},
     "output_type": "display_data"
    },
    {
     "data": {
      "application/vnd.jupyter.widget-view+json": {
       "model_id": "c1f7094b29ce45c1afcaa8de94812f46",
       "version_major": 2,
       "version_minor": 0
      },
      "text/plain": [
       "Button(description='Rust', layout=Layout(border_bottom='dashed 2px', border_left='dashed 2px', border_right='d…"
      ]
     },
     "metadata": {},
     "output_type": "display_data"
    },
    {
     "data": {
      "application/vnd.jupyter.widget-view+json": {
       "model_id": "928ba8988bd04a6d9ee4ccaf0e96ec89",
       "version_major": 2,
       "version_minor": 0
      },
      "text/plain": [
       "Output()"
      ]
     },
     "metadata": {},
     "output_type": "display_data"
    }
   ],
   "source": [
    "import ipywidgets as widgets\n",
    "from IPython.display import clear_output\n",
    "\n",
    "layout = widgets.Layout(width='300px', height='50px', border='dashed 2px')\n",
    "button1 = widgets.Button(description='Python', layout=layout, button_style='success')\n",
    "button2 = widgets.Button(description='Go', layout=layout, button_style='info')\n",
    "button3 = widgets.Button(description='Rust', layout=layout)\n",
    "button3.style.button_color = 'purple'\n",
    "output= widgets.Output()\n",
    "\n",
    "print(\"Pick your favorite language:\")\n",
    "display(button1, button2, button3, output)\n",
    "\n",
    "def event_handler(button):\n",
    "    with output:\n",
    "        clear_output()\n",
    "        print(\"Your favorite language is: {}\".format(button.description))\n",
    "        \n",
    "button1.on_click(event_handler)\n",
    "button2.on_click(event_handler)\n",
    "button3.on_click(event_handler)\n"
   ]
  }
 ],
 "metadata": {
  "kernelspec": {
   "display_name": "Python 3 (ipykernel)",
   "language": "python",
   "name": "python3"
  },
  "language_info": {
   "codemirror_mode": {
    "name": "ipython",
    "version": 3
   },
   "file_extension": ".py",
   "mimetype": "text/x-python",
   "name": "python",
   "nbconvert_exporter": "python",
   "pygments_lexer": "ipython3",
   "version": "3.12.3"
  }
 },
 "nbformat": 4,
 "nbformat_minor": 5
}
