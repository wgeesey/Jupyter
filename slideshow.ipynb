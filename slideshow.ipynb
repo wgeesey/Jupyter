{
 "cells": [
  {
   "cell_type": "markdown",
   "id": "d839f59b",
   "metadata": {
    "slideshow": {
     "slide_type": "slide"
    }
   },
   "source": [
    "# Spira mirabilis: The Miraculous Spiral"
   ]
  },
  {
   "cell_type": "markdown",
   "id": "71ba8ef0",
   "metadata": {
    "slideshow": {
     "slide_type": "slide"
    }
   },
   "source": [
    "### - Why does a hurricane look like a galaxy? Or the chambers in a nautilus shell resemble the swirls in a pinecone?\n",
    "\n",
    "### - Growth in nature is a geometric progression, and spirals that increase geometrically are \"logarithmic\".\n",
    "\n",
    "### - Logarithmic spirals can be plotted using Python with the polar equation: \n",
    "## $r = ae^{b\\theta}$\n",
    "*Where:\n",
    "r = radius\n",
    "a is the scaling factor (size of spiral)\n",
    "b is the growth factor that controls the \"openness\"\n",
    "$\\theta$ controls the length of spiral*"
   ]
  },
  {
   "cell_type": "code",
   "execution_count": 2,
   "id": "55d2edbd",
   "metadata": {
    "slideshow": {
     "slide_type": "slide"
    }
   },
   "outputs": [
    {
     "data": {
      "application/vnd.jupyter.widget-view+json": {
       "model_id": "33dbbc976bda4e0dbe2205d3005bd44a",
       "version_major": 2,
       "version_minor": 0
      },
      "text/plain": [
       "interactive(children=(IntSlider(value=1, description='a', max=3, min=-1), FloatSlider(value=0.2, description='…"
      ]
     },
     "metadata": {},
     "output_type": "display_data"
    }
   ],
   "source": [
    "import numpy as np\n",
    "import matplotlib.pyplot as plt\n",
    "from ipywidgets import interact\n",
    "\n",
    "def log_spiral(a=1, b=0.2, t=4):\n",
    "    theta_radians = np.arange(0, t* np.pi, 0.1)\n",
    "    radii = [a * np.exp(b * rad) for rad in theta_radians]\n",
    "    plt.polar(theta_radians, radii, 'o', c='black')\n",
    "    \n",
    "interact(log_spiral);"
   ]
  },
  {
   "cell_type": "markdown",
   "id": "9c1c2336",
   "metadata": {
    "slideshow": {
     "slide_type": "notes"
    }
   },
   "source": [
    "#### a: (scaling factor) controls size\n",
    "#### b: (growth factor) controls openness\n",
    "#### t: (theta) controls length"
   ]
  },
  {
   "cell_type": "markdown",
   "id": "c63875e9",
   "metadata": {
    "slideshow": {
     "slide_type": "slide"
    }
   },
   "source": [
    "# The End"
   ]
  }
 ],
 "metadata": {
  "celltoolbar": "Slideshow",
  "kernelspec": {
   "display_name": "Python 3 (ipykernel)",
   "language": "python",
   "name": "python3"
  },
  "language_info": {
   "codemirror_mode": {
    "name": "ipython",
    "version": 3
   },
   "file_extension": ".py",
   "mimetype": "text/x-python",
   "name": "python",
   "nbconvert_exporter": "python",
   "pygments_lexer": "ipython3",
   "version": "3.12.3"
  }
 },
 "nbformat": 4,
 "nbformat_minor": 5
}
